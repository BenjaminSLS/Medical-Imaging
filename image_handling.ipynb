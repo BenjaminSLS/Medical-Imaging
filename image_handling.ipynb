{
 "cells": [
  {
   "attachments": {},
   "cell_type": "markdown",
   "metadata": {},
   "source": [
    "# Handling the images\n",
    "Getting an overview of the images"
   ]
  },
  {
   "cell_type": "code",
   "execution_count": 1,
   "metadata": {},
   "outputs": [],
   "source": [
    "import pandas as pd\n",
    "import random\n",
    "from MediPlot import BodyMap\n",
    "import matplotlib.pyplot as plt"
   ]
  },
  {
   "cell_type": "code",
   "execution_count": 48,
   "metadata": {},
   "outputs": [],
   "source": [
    "metadata = pd.read_csv(\"./data/metadata.csv\")"
   ]
  },
  {
   "cell_type": "code",
   "execution_count": 49,
   "metadata": {},
   "outputs": [
    {
     "data": {
      "text/html": [
       "<div>\n",
       "<style scoped>\n",
       "    .dataframe tbody tr th:only-of-type {\n",
       "        vertical-align: middle;\n",
       "    }\n",
       "\n",
       "    .dataframe tbody tr th {\n",
       "        vertical-align: top;\n",
       "    }\n",
       "\n",
       "    .dataframe thead th {\n",
       "        text-align: right;\n",
       "    }\n",
       "</style>\n",
       "<table border=\"1\" class=\"dataframe\">\n",
       "  <thead>\n",
       "    <tr style=\"text-align: right;\">\n",
       "      <th></th>\n",
       "      <th>patient_id</th>\n",
       "      <th>lesion_id</th>\n",
       "      <th>smoke</th>\n",
       "      <th>drink</th>\n",
       "      <th>background_father</th>\n",
       "      <th>background_mother</th>\n",
       "      <th>age</th>\n",
       "      <th>pesticide</th>\n",
       "      <th>gender</th>\n",
       "      <th>skin_cancer_history</th>\n",
       "      <th>...</th>\n",
       "      <th>diameter_2</th>\n",
       "      <th>diagnostic</th>\n",
       "      <th>itch</th>\n",
       "      <th>grew</th>\n",
       "      <th>hurt</th>\n",
       "      <th>changed</th>\n",
       "      <th>bleed</th>\n",
       "      <th>elevation</th>\n",
       "      <th>img_id</th>\n",
       "      <th>biopsed</th>\n",
       "    </tr>\n",
       "  </thead>\n",
       "  <tbody>\n",
       "    <tr>\n",
       "      <th>0</th>\n",
       "      <td>PAT_1516</td>\n",
       "      <td>1765</td>\n",
       "      <td>NaN</td>\n",
       "      <td>NaN</td>\n",
       "      <td>NaN</td>\n",
       "      <td>NaN</td>\n",
       "      <td>8</td>\n",
       "      <td>NaN</td>\n",
       "      <td>NaN</td>\n",
       "      <td>NaN</td>\n",
       "      <td>...</td>\n",
       "      <td>NaN</td>\n",
       "      <td>NEV</td>\n",
       "      <td>False</td>\n",
       "      <td>False</td>\n",
       "      <td>False</td>\n",
       "      <td>False</td>\n",
       "      <td>False</td>\n",
       "      <td>False</td>\n",
       "      <td>PAT_1516_1765_530.png</td>\n",
       "      <td>False</td>\n",
       "    </tr>\n",
       "    <tr>\n",
       "      <th>1</th>\n",
       "      <td>PAT_46</td>\n",
       "      <td>881</td>\n",
       "      <td>False</td>\n",
       "      <td>False</td>\n",
       "      <td>POMERANIA</td>\n",
       "      <td>POMERANIA</td>\n",
       "      <td>55</td>\n",
       "      <td>False</td>\n",
       "      <td>FEMALE</td>\n",
       "      <td>True</td>\n",
       "      <td>...</td>\n",
       "      <td>5.0</td>\n",
       "      <td>BCC</td>\n",
       "      <td>True</td>\n",
       "      <td>True</td>\n",
       "      <td>False</td>\n",
       "      <td>True</td>\n",
       "      <td>True</td>\n",
       "      <td>True</td>\n",
       "      <td>PAT_46_881_939.png</td>\n",
       "      <td>True</td>\n",
       "    </tr>\n",
       "    <tr>\n",
       "      <th>2</th>\n",
       "      <td>PAT_1545</td>\n",
       "      <td>1867</td>\n",
       "      <td>NaN</td>\n",
       "      <td>NaN</td>\n",
       "      <td>NaN</td>\n",
       "      <td>NaN</td>\n",
       "      <td>77</td>\n",
       "      <td>NaN</td>\n",
       "      <td>NaN</td>\n",
       "      <td>NaN</td>\n",
       "      <td>...</td>\n",
       "      <td>NaN</td>\n",
       "      <td>ACK</td>\n",
       "      <td>True</td>\n",
       "      <td>False</td>\n",
       "      <td>False</td>\n",
       "      <td>False</td>\n",
       "      <td>False</td>\n",
       "      <td>False</td>\n",
       "      <td>PAT_1545_1867_547.png</td>\n",
       "      <td>False</td>\n",
       "    </tr>\n",
       "    <tr>\n",
       "      <th>3</th>\n",
       "      <td>PAT_1989</td>\n",
       "      <td>4061</td>\n",
       "      <td>NaN</td>\n",
       "      <td>NaN</td>\n",
       "      <td>NaN</td>\n",
       "      <td>NaN</td>\n",
       "      <td>75</td>\n",
       "      <td>NaN</td>\n",
       "      <td>NaN</td>\n",
       "      <td>NaN</td>\n",
       "      <td>...</td>\n",
       "      <td>NaN</td>\n",
       "      <td>ACK</td>\n",
       "      <td>True</td>\n",
       "      <td>False</td>\n",
       "      <td>False</td>\n",
       "      <td>False</td>\n",
       "      <td>False</td>\n",
       "      <td>False</td>\n",
       "      <td>PAT_1989_4061_934.png</td>\n",
       "      <td>False</td>\n",
       "    </tr>\n",
       "    <tr>\n",
       "      <th>4</th>\n",
       "      <td>PAT_684</td>\n",
       "      <td>1302</td>\n",
       "      <td>False</td>\n",
       "      <td>True</td>\n",
       "      <td>POMERANIA</td>\n",
       "      <td>POMERANIA</td>\n",
       "      <td>79</td>\n",
       "      <td>False</td>\n",
       "      <td>MALE</td>\n",
       "      <td>True</td>\n",
       "      <td>...</td>\n",
       "      <td>5.0</td>\n",
       "      <td>BCC</td>\n",
       "      <td>True</td>\n",
       "      <td>True</td>\n",
       "      <td>False</td>\n",
       "      <td>False</td>\n",
       "      <td>True</td>\n",
       "      <td>True</td>\n",
       "      <td>PAT_684_1302_588.png</td>\n",
       "      <td>True</td>\n",
       "    </tr>\n",
       "  </tbody>\n",
       "</table>\n",
       "<p>5 rows × 26 columns</p>\n",
       "</div>"
      ],
      "text/plain": [
       "  patient_id  lesion_id  smoke  drink background_father background_mother  \\\n",
       "0   PAT_1516       1765    NaN    NaN               NaN               NaN   \n",
       "1     PAT_46        881  False  False         POMERANIA         POMERANIA   \n",
       "2   PAT_1545       1867    NaN    NaN               NaN               NaN   \n",
       "3   PAT_1989       4061    NaN    NaN               NaN               NaN   \n",
       "4    PAT_684       1302  False   True         POMERANIA         POMERANIA   \n",
       "\n",
       "   age pesticide  gender skin_cancer_history  ... diameter_2 diagnostic  \\\n",
       "0    8       NaN     NaN                 NaN  ...        NaN        NEV   \n",
       "1   55     False  FEMALE                True  ...        5.0        BCC   \n",
       "2   77       NaN     NaN                 NaN  ...        NaN        ACK   \n",
       "3   75       NaN     NaN                 NaN  ...        NaN        ACK   \n",
       "4   79     False    MALE                True  ...        5.0        BCC   \n",
       "\n",
       "    itch   grew   hurt  changed  bleed elevation                 img_id  \\\n",
       "0  False  False  False    False  False     False  PAT_1516_1765_530.png   \n",
       "1   True   True  False     True   True      True     PAT_46_881_939.png   \n",
       "2   True  False  False    False  False     False  PAT_1545_1867_547.png   \n",
       "3   True  False  False    False  False     False  PAT_1989_4061_934.png   \n",
       "4   True   True  False    False   True      True   PAT_684_1302_588.png   \n",
       "\n",
       "  biopsed  \n",
       "0   False  \n",
       "1    True  \n",
       "2   False  \n",
       "3   False  \n",
       "4    True  \n",
       "\n",
       "[5 rows x 26 columns]"
      ]
     },
     "execution_count": 49,
     "metadata": {},
     "output_type": "execute_result"
    }
   ],
   "source": [
    "metadata.head()"
   ]
  },
  {
   "cell_type": "code",
   "execution_count": 50,
   "metadata": {},
   "outputs": [
    {
     "data": {
      "text/plain": [
       "FEMALE    753\n",
       "MALE      741\n",
       "Name: gender, dtype: int64"
      ]
     },
     "execution_count": 50,
     "metadata": {},
     "output_type": "execute_result"
    }
   ],
   "source": [
    "metadata[\"gender\"].value_counts()"
   ]
  },
  {
   "cell_type": "code",
   "execution_count": 51,
   "metadata": {},
   "outputs": [],
   "source": [
    "diagnostic = metadata[\"diagnostic\"].value_counts()"
   ]
  },
  {
   "cell_type": "code",
   "execution_count": 52,
   "metadata": {},
   "outputs": [
    {
     "name": "stdout",
     "output_type": "stream",
     "text": [
      "1089 1209\n"
     ]
    }
   ],
   "source": [
    "cancer = diagnostic[\"BCC\"] + diagnostic[\"MEL\"] + diagnostic[\"SCC\"]\n",
    "disease = diagnostic[\"ACK\"] + diagnostic[\"NEV\"] + diagnostic[\"SEK\"]\n",
    "\n",
    "print(cancer, disease)"
   ]
  },
  {
   "cell_type": "code",
   "execution_count": 57,
   "metadata": {},
   "outputs": [
    {
     "data": {
      "text/plain": [
       "patient_id               0\n",
       "lesion_id                0\n",
       "smoke                  804\n",
       "drink                  804\n",
       "background_father      818\n",
       "background_mother      822\n",
       "age                      0\n",
       "pesticide              804\n",
       "gender                 804\n",
       "skin_cancer_history    804\n",
       "cancer_history         804\n",
       "has_piped_water        804\n",
       "has_sewage_system      804\n",
       "fitspatrick            804\n",
       "region                   0\n",
       "diameter_1             804\n",
       "diameter_2             804\n",
       "diagnostic               0\n",
       "itch                     0\n",
       "grew                     0\n",
       "hurt                     0\n",
       "changed                  0\n",
       "bleed                    0\n",
       "elevation                0\n",
       "img_id                   0\n",
       "biopsed                  0\n",
       "dtype: int64"
      ]
     },
     "execution_count": 57,
     "metadata": {},
     "output_type": "execute_result"
    }
   ],
   "source": [
    "metadata.isna().sum()"
   ]
  },
  {
   "attachments": {},
   "cell_type": "markdown",
   "metadata": {},
   "source": [
    "# Image quality\n",
    "Check which image is the smallest"
   ]
  },
  {
   "cell_type": "code",
   "execution_count": 53,
   "metadata": {},
   "outputs": [
    {
     "name": "stdout",
     "output_type": "stream",
     "text": [
      "./data/images/imgs_part_1/PAT_205_311_255.png (147, 147)\n"
     ]
    }
   ],
   "source": [
    "from PIL import Image\n",
    "import os\n",
    "\n",
    "folders = [\"./data/images/imgs_part_1\",\"./data/images/imgs_part_2\",\"./data/images/imgs_part_2\"]\n",
    "\n",
    "\n",
    "image_name = []\n",
    "image_sizes = []\n",
    "for folder in folders:\n",
    "    for filename in os.listdir(folder):\n",
    "        if filename.endswith(\".png\"):\n",
    "            filepath = os.path.join(folder, filename)\n",
    "            with Image.open(filepath) as im:\n",
    "                image_name.append(filepath)\n",
    "                image_sizes.append(im.size)\n",
    "\n",
    "# return the index of the smallest element in the list\n",
    "index = image_sizes.index(min(image_sizes))\n",
    "print(image_name[index], image_sizes[index])"
   ]
  },
  {
   "cell_type": "code",
   "execution_count": 54,
   "metadata": {},
   "outputs": [
    {
     "name": "stdout",
     "output_type": "stream",
     "text": [
      "['PAT_46_881_939.png', 'PAT_46_881_939.png', 'PAT_684_1302_588.png', 'PAT_778_1471_835.png', 'PAT_117_179_983.png']\n"
     ]
    }
   ],
   "source": [
    "image_diagnostic = {}\n",
    "\n",
    "for index, row in metadata.iterrows():\n",
    "    if row[\"diagnostic\"] not in image_diagnostic:\n",
    "        image_diagnostic[row[\"diagnostic\"]] = [row[\"img_id\"]]\n",
    "    image_diagnostic[row[\"diagnostic\"]].append(row[\"img_id\"])\n",
    "\n",
    "print(image_diagnostic[\"BCC\"][:5])\n"
   ]
  },
  {
   "cell_type": "code",
   "execution_count": 55,
   "metadata": {},
   "outputs": [
    {
     "data": {
      "text/plain": [
       "['PAT_1335_1181_21.png',\n",
       " 'PAT_1364_1246_420.png',\n",
       " 'PAT_621_1183_56.png',\n",
       " 'PAT_1731_3237_919.png',\n",
       " 'PAT_1451_1562_545.png',\n",
       " 'PAT_1448_1551_366.png',\n",
       " 'PAT_957_1814_77.png',\n",
       " 'PAT_1257_887_828.png',\n",
       " 'PAT_1648_2902_292.png',\n",
       " 'PAT_1658_2933_322.png',\n",
       " 'PAT_897_1704_988.png',\n",
       " 'PAT_1520_1777_935.png',\n",
       " 'PAT_1351_1231_203.png',\n",
       " 'PAT_839_1591_204.png',\n",
       " 'PAT_1587_2625_226.png',\n",
       " 'PAT_1934_3890_306.png',\n",
       " 'PAT_333_1469_499.png',\n",
       " 'PAT_342_716_845.png',\n",
       " 'PAT_666_1271_645.png',\n",
       " 'PAT_867_1650_901.png',\n",
       " 'PAT_387_1614_866.png',\n",
       " 'PAT_814_1532_265.png',\n",
       " 'PAT_806_1519_527.png',\n",
       " 'PAT_456_887_499.png',\n",
       " 'PAT_806_1520_708.png',\n",
       " 'PAT_683_1297_195.png',\n",
       " 'PAT_381_775_566.png',\n",
       " 'PAT_257_396_494.png',\n",
       " 'PAT_833_1571_134.png',\n",
       " 'PAT_300_647_501.png',\n",
       " 'PAT_526_991_109.png',\n",
       " 'PAT_178_276_465.png',\n",
       " 'PAT_478_916_979.png',\n",
       " 'PAT_241_367_89.png',\n",
       " 'PAT_742_1470_834.png',\n",
       " 'PAT_1875_3689_646.png',\n",
       " 'PAT_1094_381_85.png',\n",
       " 'PAT_1365_1253_912.png',\n",
       " 'PAT_184_284_721.png',\n",
       " 'PAT_388_4500_67.png',\n",
       " 'PAT_2050_4350_36.png',\n",
       " 'PAT_1057_242_297.png',\n",
       " 'PAT_1026_124_206.png',\n",
       " 'PAT_180_756_831.png',\n",
       " 'PAT_1981_4023_673.png',\n",
       " 'PAT_1428_1489_454.png',\n",
       " 'PAT_1937_3897_131.png',\n",
       " 'PAT_276_425_539.png',\n",
       " 'PAT_1070_305_907.png',\n",
       " 'PAT_270_1386_755.png',\n",
       " 'PAT_86_1082_41.png',\n",
       " 'PAT_267_1258_693.png',\n",
       " 'PAT_1914_3822_863.png',\n",
       " 'PAT_107_160_609.png',\n",
       " 'PAT_2016_4155_600.png',\n",
       " 'PAT_1286_999_824.png',\n",
       " 'PAT_1709_3159_935.png',\n",
       " 'PAT_2065_4413_298.png',\n",
       " 'PAT_1826_3580_871.png',\n",
       " 'PAT_2046_4323_762.png',\n",
       " 'PAT_2066_4417_201.png',\n",
       " 'PAT_1582_2574_989.png',\n",
       " 'PAT_1304_1079_859.png',\n",
       " 'PAT_1946_3924_24.png',\n",
       " 'PAT_1942_3915_388.png',\n",
       " 'PAT_738_1552_843.png',\n",
       " 'PAT_1555_2396_71.png',\n",
       " 'PAT_1582_2574_34.png',\n",
       " 'PAT_367_753_130.png',\n",
       " 'PAT_93_142_269.png',\n",
       " 'PAT_377_1580_534.png',\n",
       " 'PAT_219_337_358.png',\n",
       " 'PAT_664_1263_781.png',\n",
       " 'PAT_365_750_854.png',\n",
       " 'PAT_227_347_19.png',\n",
       " 'PAT_307_659_85.png',\n",
       " 'PAT_215_330_224.png',\n",
       " 'PAT_600_1141_542.png',\n",
       " 'PAT_454_884_28.png',\n",
       " 'PAT_380_1540_432.png',\n",
       " 'PAT_397_798_482.png',\n",
       " 'PAT_860_1641_998.png',\n",
       " 'PAT_386_784_470.png',\n",
       " 'PAT_549_1043_676.png',\n",
       " 'PAT_492_937_958.png',\n",
       " 'PAT_691_1312_389.png',\n",
       " 'PAT_340_714_68.png',\n",
       " 'PAT_680_1289_182.png',\n",
       " 'PAT_70_107_155.png',\n",
       " 'PAT_109_868_113.png',\n",
       " 'PAT_975_1834_152.png',\n",
       " 'PAT_746_1407_708.png',\n",
       " 'PAT_115_1138_870.png',\n",
       " 'PAT_614_1166_885.png',\n",
       " 'PAT_710_1330_243.png',\n",
       " 'PAT_262_402_265.png',\n",
       " 'PAT_495_941_26.png',\n",
       " 'PAT_656_1246_489.png',\n",
       " 'PAT_622_1185_922.png',\n",
       " 'PAT_995_1867_5.png',\n",
       " 'PAT_320_681_410.png',\n",
       " 'PAT_719_1361_160.png']"
      ]
     },
     "execution_count": 55,
     "metadata": {},
     "output_type": "execute_result"
    }
   ],
   "source": [
    "selected_images = []\n",
    "for key in image_diagnostic:\n",
    "    random.seed(42)\n",
    "    selected_images += random.sample(image_diagnostic[key], 17)\n",
    "\n",
    "selected_images"
   ]
  },
  {
   "cell_type": "code",
   "execution_count": 2,
   "metadata": {},
   "outputs": [
    {
     "ename": "ValueError",
     "evalue": "Please open the URL for reading and pass the result to Pillow, e.g. with ``np.array(PIL.Image.open(urllib.request.urlopen(url)))``.",
     "output_type": "error",
     "traceback": [
      "\u001b[0;31m---------------------------------------------------------------------------\u001b[0m",
      "\u001b[0;31mValueError\u001b[0m                                Traceback (most recent call last)",
      "Cell \u001b[0;32mIn[2], line 1\u001b[0m\n\u001b[0;32m----> 1\u001b[0m ax \u001b[39m=\u001b[39m BodyMap()\u001b[39m.\u001b[39mgenerate(areas\u001b[39m=\u001b[39m[\u001b[39m'\u001b[39m\u001b[39mhead\u001b[39m\u001b[39m'\u001b[39m,\u001b[39m'\u001b[39m\u001b[39mtorso\u001b[39m\u001b[39m'\u001b[39m,\u001b[39m'\u001b[39m\u001b[39mleft hand\u001b[39m\u001b[39m'\u001b[39m,\u001b[39m'\u001b[39m\u001b[39mright foot\u001b[39m\u001b[39m'\u001b[39m],values\u001b[39m=\u001b[39m[\u001b[39m10\u001b[39m,\u001b[39m30\u001b[39m,\u001b[39m22\u001b[39m,\u001b[39m12\u001b[39m],cmap\u001b[39m=\u001b[39m\u001b[39m'\u001b[39m\u001b[39mcoolwarm\u001b[39m\u001b[39m'\u001b[39m,background\u001b[39m=\u001b[39m\u001b[39m'\u001b[39m\u001b[39mwhite\u001b[39m\u001b[39m'\u001b[39m)\n\u001b[1;32m      2\u001b[0m plt\u001b[39m.\u001b[39mshow()\n",
      "File \u001b[0;32m/opt/homebrew/lib/python3.11/site-packages/MediPlot/BodyMap.py:9\u001b[0m, in \u001b[0;36mBodyMap.__init__\u001b[0;34m(self)\u001b[0m\n\u001b[1;32m      7\u001b[0m \u001b[39mdef\u001b[39;00m \u001b[39m__init__\u001b[39m(\u001b[39mself\u001b[39m):\n\u001b[1;32m      8\u001b[0m     im_link \u001b[39m=\u001b[39m \u001b[39m'\u001b[39m\u001b[39mhttps://raw.githubusercontent.com/MuteJester/MediPlot/master/MediPlot/Body_Sil.png\u001b[39m\u001b[39m'\u001b[39m\n\u001b[0;32m----> 9\u001b[0m     \u001b[39mself\u001b[39m\u001b[39m.\u001b[39mbody_sil \u001b[39m=\u001b[39m plt\u001b[39m.\u001b[39;49mimread(im_link)\n\u001b[1;32m     10\u001b[0m     \u001b[39mself\u001b[39m\u001b[39m.\u001b[39mbmap \u001b[39m=\u001b[39m {\u001b[39m'\u001b[39m\u001b[39mhead\u001b[39m\u001b[39m'\u001b[39m: \u001b[39mself\u001b[39m\u001b[39m.\u001b[39mset_head, \u001b[39m'\u001b[39m\u001b[39mlegs\u001b[39m\u001b[39m'\u001b[39m: \u001b[39mself\u001b[39m\u001b[39m.\u001b[39mset_legs, \u001b[39m'\u001b[39m\u001b[39mles\u001b[39m\u001b[39m'\u001b[39m: \u001b[39mself\u001b[39m\u001b[39m.\u001b[39mset_right_leg,\n\u001b[1;32m     11\u001b[0m                  \u001b[39m'\u001b[39m\u001b[39mleft leg\u001b[39m\u001b[39m'\u001b[39m: \u001b[39mself\u001b[39m\u001b[39m.\u001b[39mset_left_leg, \u001b[39m'\u001b[39m\u001b[39mright leg\u001b[39m\u001b[39m'\u001b[39m: \u001b[39mself\u001b[39m\u001b[39m.\u001b[39mset_right_leg, \u001b[39m'\u001b[39m\u001b[39mright arm\u001b[39m\u001b[39m'\u001b[39m: \u001b[39mself\u001b[39m\u001b[39m.\u001b[39mset_right_arm,\n\u001b[1;32m     12\u001b[0m                  \u001b[39m'\u001b[39m\u001b[39mleft arm\u001b[39m\u001b[39m'\u001b[39m: \u001b[39mself\u001b[39m\u001b[39m.\u001b[39mset_left_arm, \u001b[39m'\u001b[39m\u001b[39mtorso\u001b[39m\u001b[39m'\u001b[39m: \u001b[39mself\u001b[39m\u001b[39m.\u001b[39mset_torso, \u001b[39m'\u001b[39m\u001b[39marms\u001b[39m\u001b[39m'\u001b[39m: \u001b[39mself\u001b[39m\u001b[39m.\u001b[39mset_arms,\n\u001b[0;32m   (...)\u001b[0m\n\u001b[1;32m     18\u001b[0m                  \u001b[39m'\u001b[39m\u001b[39mright thigh\u001b[39m\u001b[39m'\u001b[39m:\u001b[39mself\u001b[39m\u001b[39m.\u001b[39mset_right_thigh,\u001b[39m'\u001b[39m\u001b[39mleft thigh\u001b[39m\u001b[39m'\u001b[39m:\u001b[39mself\u001b[39m\u001b[39m.\u001b[39mset_left_thigh,\n\u001b[1;32m     19\u001b[0m                  \u001b[39m'\u001b[39m\u001b[39mright lower leg\u001b[39m\u001b[39m'\u001b[39m:\u001b[39mself\u001b[39m\u001b[39m.\u001b[39mset_right_lower_leg,\u001b[39m'\u001b[39m\u001b[39mleft lower leg\u001b[39m\u001b[39m'\u001b[39m:\u001b[39mself\u001b[39m\u001b[39m.\u001b[39mset_left_lower_leg}\n",
      "File \u001b[0;32m/opt/homebrew/lib/python3.11/site-packages/matplotlib/pyplot.py:2168\u001b[0m, in \u001b[0;36mimread\u001b[0;34m(fname, format)\u001b[0m\n\u001b[1;32m   2166\u001b[0m \u001b[39m@_copy_docstring_and_deprecators\u001b[39m(matplotlib\u001b[39m.\u001b[39mimage\u001b[39m.\u001b[39mimread)\n\u001b[1;32m   2167\u001b[0m \u001b[39mdef\u001b[39;00m \u001b[39mimread\u001b[39m(fname, \u001b[39mformat\u001b[39m\u001b[39m=\u001b[39m\u001b[39mNone\u001b[39;00m):\n\u001b[0;32m-> 2168\u001b[0m     \u001b[39mreturn\u001b[39;00m matplotlib\u001b[39m.\u001b[39;49mimage\u001b[39m.\u001b[39;49mimread(fname, \u001b[39mformat\u001b[39;49m)\n",
      "File \u001b[0;32m/opt/homebrew/lib/python3.11/site-packages/matplotlib/image.py:1556\u001b[0m, in \u001b[0;36mimread\u001b[0;34m(fname, format)\u001b[0m\n\u001b[1;32m   1552\u001b[0m img_open \u001b[39m=\u001b[39m (\n\u001b[1;32m   1553\u001b[0m     PIL\u001b[39m.\u001b[39mPngImagePlugin\u001b[39m.\u001b[39mPngImageFile \u001b[39mif\u001b[39;00m ext \u001b[39m==\u001b[39m \u001b[39m'\u001b[39m\u001b[39mpng\u001b[39m\u001b[39m'\u001b[39m \u001b[39melse\u001b[39;00m PIL\u001b[39m.\u001b[39mImage\u001b[39m.\u001b[39mopen)\n\u001b[1;32m   1554\u001b[0m \u001b[39mif\u001b[39;00m \u001b[39misinstance\u001b[39m(fname, \u001b[39mstr\u001b[39m) \u001b[39mand\u001b[39;00m \u001b[39mlen\u001b[39m(parse\u001b[39m.\u001b[39murlparse(fname)\u001b[39m.\u001b[39mscheme) \u001b[39m>\u001b[39m \u001b[39m1\u001b[39m:\n\u001b[1;32m   1555\u001b[0m     \u001b[39m# Pillow doesn't handle URLs directly.\u001b[39;00m\n\u001b[0;32m-> 1556\u001b[0m     \u001b[39mraise\u001b[39;00m \u001b[39mValueError\u001b[39;00m(\n\u001b[1;32m   1557\u001b[0m         \u001b[39m\"\u001b[39m\u001b[39mPlease open the URL for reading and pass the \u001b[39m\u001b[39m\"\u001b[39m\n\u001b[1;32m   1558\u001b[0m         \u001b[39m\"\u001b[39m\u001b[39mresult to Pillow, e.g. with \u001b[39m\u001b[39m\"\u001b[39m\n\u001b[1;32m   1559\u001b[0m         \u001b[39m\"\u001b[39m\u001b[39m``np.array(PIL.Image.open(urllib.request.urlopen(url)))``.\u001b[39m\u001b[39m\"\u001b[39m\n\u001b[1;32m   1560\u001b[0m         )\n\u001b[1;32m   1561\u001b[0m \u001b[39mwith\u001b[39;00m img_open(fname) \u001b[39mas\u001b[39;00m image:\n\u001b[1;32m   1562\u001b[0m     \u001b[39mreturn\u001b[39;00m (_pil_png_to_float_array(image)\n\u001b[1;32m   1563\u001b[0m             \u001b[39mif\u001b[39;00m \u001b[39misinstance\u001b[39m(image, PIL\u001b[39m.\u001b[39mPngImagePlugin\u001b[39m.\u001b[39mPngImageFile) \u001b[39melse\u001b[39;00m\n\u001b[1;32m   1564\u001b[0m             pil_to_array(image))\n",
      "\u001b[0;31mValueError\u001b[0m: Please open the URL for reading and pass the result to Pillow, e.g. with ``np.array(PIL.Image.open(urllib.request.urlopen(url)))``."
     ]
    }
   ],
   "source": [
    "ax = BodyMap().generate(areas=['head','torso','left hand','right foot'],values=[10,30,22,12],cmap='coolwarm',background='white')\n",
    "plt.show()"
   ]
  },
  {
   "cell_type": "code",
   "execution_count": null,
   "metadata": {},
   "outputs": [],
   "source": []
  },
  {
   "cell_type": "code",
   "execution_count": null,
   "metadata": {},
   "outputs": [],
   "source": []
  },
  {
   "cell_type": "code",
   "execution_count": null,
   "metadata": {},
   "outputs": [],
   "source": []
  }
 ],
 "metadata": {
  "kernelspec": {
   "display_name": "Python 3",
   "language": "python",
   "name": "python3"
  },
  "language_info": {
   "codemirror_mode": {
    "name": "ipython",
    "version": 3
   },
   "file_extension": ".py",
   "mimetype": "text/x-python",
   "name": "python",
   "nbconvert_exporter": "python",
   "pygments_lexer": "ipython3",
   "version": "3.11.3"
  },
  "orig_nbformat": 4
 },
 "nbformat": 4,
 "nbformat_minor": 2
}
