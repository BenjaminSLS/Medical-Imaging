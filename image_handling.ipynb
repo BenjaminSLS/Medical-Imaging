{
 "cells": [
  {
   "attachments": {},
   "cell_type": "markdown",
   "metadata": {},
   "source": [
    "# Handling the images\n",
    "Getting an overview of the images"
   ]
  },
  {
   "cell_type": "code",
   "execution_count": 69,
   "metadata": {},
   "outputs": [],
   "source": [
    "import pandas as pd\n",
    "import random\n",
    "import matplotlib.pyplot as plt\n",
    "import os\n",
    "import shutil"
   ]
  },
  {
   "cell_type": "code",
   "execution_count": 5,
   "metadata": {},
   "outputs": [],
   "source": [
    "metadata = pd.read_csv(\"./data/metadata.csv\")"
   ]
  },
  {
   "cell_type": "code",
   "execution_count": 6,
   "metadata": {},
   "outputs": [
    {
     "data": {
      "text/html": [
       "<div>\n",
       "<style scoped>\n",
       "    .dataframe tbody tr th:only-of-type {\n",
       "        vertical-align: middle;\n",
       "    }\n",
       "\n",
       "    .dataframe tbody tr th {\n",
       "        vertical-align: top;\n",
       "    }\n",
       "\n",
       "    .dataframe thead th {\n",
       "        text-align: right;\n",
       "    }\n",
       "</style>\n",
       "<table border=\"1\" class=\"dataframe\">\n",
       "  <thead>\n",
       "    <tr style=\"text-align: right;\">\n",
       "      <th></th>\n",
       "      <th>patient_id</th>\n",
       "      <th>lesion_id</th>\n",
       "      <th>smoke</th>\n",
       "      <th>drink</th>\n",
       "      <th>background_father</th>\n",
       "      <th>background_mother</th>\n",
       "      <th>age</th>\n",
       "      <th>pesticide</th>\n",
       "      <th>gender</th>\n",
       "      <th>skin_cancer_history</th>\n",
       "      <th>...</th>\n",
       "      <th>diameter_2</th>\n",
       "      <th>diagnostic</th>\n",
       "      <th>itch</th>\n",
       "      <th>grew</th>\n",
       "      <th>hurt</th>\n",
       "      <th>changed</th>\n",
       "      <th>bleed</th>\n",
       "      <th>elevation</th>\n",
       "      <th>img_id</th>\n",
       "      <th>biopsed</th>\n",
       "    </tr>\n",
       "  </thead>\n",
       "  <tbody>\n",
       "    <tr>\n",
       "      <th>0</th>\n",
       "      <td>PAT_1516</td>\n",
       "      <td>1765</td>\n",
       "      <td>NaN</td>\n",
       "      <td>NaN</td>\n",
       "      <td>NaN</td>\n",
       "      <td>NaN</td>\n",
       "      <td>8</td>\n",
       "      <td>NaN</td>\n",
       "      <td>NaN</td>\n",
       "      <td>NaN</td>\n",
       "      <td>...</td>\n",
       "      <td>NaN</td>\n",
       "      <td>NEV</td>\n",
       "      <td>False</td>\n",
       "      <td>False</td>\n",
       "      <td>False</td>\n",
       "      <td>False</td>\n",
       "      <td>False</td>\n",
       "      <td>False</td>\n",
       "      <td>PAT_1516_1765_530.png</td>\n",
       "      <td>False</td>\n",
       "    </tr>\n",
       "    <tr>\n",
       "      <th>1</th>\n",
       "      <td>PAT_46</td>\n",
       "      <td>881</td>\n",
       "      <td>False</td>\n",
       "      <td>False</td>\n",
       "      <td>POMERANIA</td>\n",
       "      <td>POMERANIA</td>\n",
       "      <td>55</td>\n",
       "      <td>False</td>\n",
       "      <td>FEMALE</td>\n",
       "      <td>True</td>\n",
       "      <td>...</td>\n",
       "      <td>5.0</td>\n",
       "      <td>BCC</td>\n",
       "      <td>True</td>\n",
       "      <td>True</td>\n",
       "      <td>False</td>\n",
       "      <td>True</td>\n",
       "      <td>True</td>\n",
       "      <td>True</td>\n",
       "      <td>PAT_46_881_939.png</td>\n",
       "      <td>True</td>\n",
       "    </tr>\n",
       "    <tr>\n",
       "      <th>2</th>\n",
       "      <td>PAT_1545</td>\n",
       "      <td>1867</td>\n",
       "      <td>NaN</td>\n",
       "      <td>NaN</td>\n",
       "      <td>NaN</td>\n",
       "      <td>NaN</td>\n",
       "      <td>77</td>\n",
       "      <td>NaN</td>\n",
       "      <td>NaN</td>\n",
       "      <td>NaN</td>\n",
       "      <td>...</td>\n",
       "      <td>NaN</td>\n",
       "      <td>ACK</td>\n",
       "      <td>True</td>\n",
       "      <td>False</td>\n",
       "      <td>False</td>\n",
       "      <td>False</td>\n",
       "      <td>False</td>\n",
       "      <td>False</td>\n",
       "      <td>PAT_1545_1867_547.png</td>\n",
       "      <td>False</td>\n",
       "    </tr>\n",
       "    <tr>\n",
       "      <th>3</th>\n",
       "      <td>PAT_1989</td>\n",
       "      <td>4061</td>\n",
       "      <td>NaN</td>\n",
       "      <td>NaN</td>\n",
       "      <td>NaN</td>\n",
       "      <td>NaN</td>\n",
       "      <td>75</td>\n",
       "      <td>NaN</td>\n",
       "      <td>NaN</td>\n",
       "      <td>NaN</td>\n",
       "      <td>...</td>\n",
       "      <td>NaN</td>\n",
       "      <td>ACK</td>\n",
       "      <td>True</td>\n",
       "      <td>False</td>\n",
       "      <td>False</td>\n",
       "      <td>False</td>\n",
       "      <td>False</td>\n",
       "      <td>False</td>\n",
       "      <td>PAT_1989_4061_934.png</td>\n",
       "      <td>False</td>\n",
       "    </tr>\n",
       "    <tr>\n",
       "      <th>4</th>\n",
       "      <td>PAT_684</td>\n",
       "      <td>1302</td>\n",
       "      <td>False</td>\n",
       "      <td>True</td>\n",
       "      <td>POMERANIA</td>\n",
       "      <td>POMERANIA</td>\n",
       "      <td>79</td>\n",
       "      <td>False</td>\n",
       "      <td>MALE</td>\n",
       "      <td>True</td>\n",
       "      <td>...</td>\n",
       "      <td>5.0</td>\n",
       "      <td>BCC</td>\n",
       "      <td>True</td>\n",
       "      <td>True</td>\n",
       "      <td>False</td>\n",
       "      <td>False</td>\n",
       "      <td>True</td>\n",
       "      <td>True</td>\n",
       "      <td>PAT_684_1302_588.png</td>\n",
       "      <td>True</td>\n",
       "    </tr>\n",
       "  </tbody>\n",
       "</table>\n",
       "<p>5 rows × 26 columns</p>\n",
       "</div>"
      ],
      "text/plain": [
       "  patient_id  lesion_id  smoke  drink background_father background_mother  \\\n",
       "0   PAT_1516       1765    NaN    NaN               NaN               NaN   \n",
       "1     PAT_46        881  False  False         POMERANIA         POMERANIA   \n",
       "2   PAT_1545       1867    NaN    NaN               NaN               NaN   \n",
       "3   PAT_1989       4061    NaN    NaN               NaN               NaN   \n",
       "4    PAT_684       1302  False   True         POMERANIA         POMERANIA   \n",
       "\n",
       "   age pesticide  gender skin_cancer_history  ... diameter_2 diagnostic  \\\n",
       "0    8       NaN     NaN                 NaN  ...        NaN        NEV   \n",
       "1   55     False  FEMALE                True  ...        5.0        BCC   \n",
       "2   77       NaN     NaN                 NaN  ...        NaN        ACK   \n",
       "3   75       NaN     NaN                 NaN  ...        NaN        ACK   \n",
       "4   79     False    MALE                True  ...        5.0        BCC   \n",
       "\n",
       "    itch   grew   hurt  changed  bleed elevation                 img_id  \\\n",
       "0  False  False  False    False  False     False  PAT_1516_1765_530.png   \n",
       "1   True   True  False     True   True      True     PAT_46_881_939.png   \n",
       "2   True  False  False    False  False     False  PAT_1545_1867_547.png   \n",
       "3   True  False  False    False  False     False  PAT_1989_4061_934.png   \n",
       "4   True   True  False    False   True      True   PAT_684_1302_588.png   \n",
       "\n",
       "  biopsed  \n",
       "0   False  \n",
       "1    True  \n",
       "2   False  \n",
       "3   False  \n",
       "4    True  \n",
       "\n",
       "[5 rows x 26 columns]"
      ]
     },
     "execution_count": 6,
     "metadata": {},
     "output_type": "execute_result"
    }
   ],
   "source": [
    "metadata.head()"
   ]
  },
  {
   "cell_type": "code",
   "execution_count": 7,
   "metadata": {},
   "outputs": [
    {
     "data": {
      "text/plain": [
       "FEMALE    753\n",
       "MALE      741\n",
       "Name: gender, dtype: int64"
      ]
     },
     "execution_count": 7,
     "metadata": {},
     "output_type": "execute_result"
    }
   ],
   "source": [
    "metadata[\"gender\"].value_counts()"
   ]
  },
  {
   "cell_type": "code",
   "execution_count": 8,
   "metadata": {},
   "outputs": [],
   "source": [
    "diagnostic = metadata[\"diagnostic\"].value_counts()"
   ]
  },
  {
   "cell_type": "code",
   "execution_count": 9,
   "metadata": {},
   "outputs": [
    {
     "name": "stdout",
     "output_type": "stream",
     "text": [
      "1089 1209\n"
     ]
    }
   ],
   "source": [
    "cancer = diagnostic[\"BCC\"] + diagnostic[\"MEL\"] + diagnostic[\"SCC\"]\n",
    "disease = diagnostic[\"ACK\"] + diagnostic[\"NEV\"] + diagnostic[\"SEK\"]\n",
    "\n",
    "print(cancer, disease)"
   ]
  },
  {
   "cell_type": "code",
   "execution_count": 10,
   "metadata": {},
   "outputs": [
    {
     "data": {
      "text/plain": [
       "patient_id               0\n",
       "lesion_id                0\n",
       "smoke                  804\n",
       "drink                  804\n",
       "background_father      818\n",
       "background_mother      822\n",
       "age                      0\n",
       "pesticide              804\n",
       "gender                 804\n",
       "skin_cancer_history    804\n",
       "cancer_history         804\n",
       "has_piped_water        804\n",
       "has_sewage_system      804\n",
       "fitspatrick            804\n",
       "region                   0\n",
       "diameter_1             804\n",
       "diameter_2             804\n",
       "diagnostic               0\n",
       "itch                     0\n",
       "grew                     0\n",
       "hurt                     0\n",
       "changed                  0\n",
       "bleed                    0\n",
       "elevation                0\n",
       "img_id                   0\n",
       "biopsed                  0\n",
       "dtype: int64"
      ]
     },
     "execution_count": 10,
     "metadata": {},
     "output_type": "execute_result"
    }
   ],
   "source": [
    "metadata.isna().sum()"
   ]
  },
  {
   "attachments": {},
   "cell_type": "markdown",
   "metadata": {},
   "source": [
    "# Image quality\n",
    "Check which image is the smallest"
   ]
  },
  {
   "cell_type": "code",
   "execution_count": 11,
   "metadata": {},
   "outputs": [
    {
     "name": "stdout",
     "output_type": "stream",
     "text": [
      "./data/images/imgs_part_1/PAT_205_311_255.png (147, 147)\n"
     ]
    }
   ],
   "source": [
    "from PIL import Image\n",
    "import os\n",
    "\n",
    "folders = [\"./data/images/imgs_part_1\",\"./data/images/imgs_part_2\",\"./data/images/imgs_part_2\"]\n",
    "\n",
    "\n",
    "image_name = []\n",
    "image_sizes = []\n",
    "for folder in folders:\n",
    "    for filename in os.listdir(folder):\n",
    "        if filename.endswith(\".png\"):\n",
    "            filepath = os.path.join(folder, filename)\n",
    "            with Image.open(filepath) as im:\n",
    "                image_name.append(filepath)\n",
    "                image_sizes.append(im.size)\n",
    "\n",
    "# return the index of the smallest element in the list\n",
    "index = image_sizes.index(min(image_sizes))\n",
    "print(image_name[index], image_sizes[index])"
   ]
  },
  {
   "cell_type": "code",
   "execution_count": 68,
   "metadata": {},
   "outputs": [
    {
     "name": "stdout",
     "output_type": "stream",
     "text": [
      "['PAT_46_881_939.png', 'PAT_46_881_939.png', 'PAT_684_1302_588.png', 'PAT_778_1471_835.png', 'PAT_117_179_983.png']\n"
     ]
    }
   ],
   "source": [
    "image_diagnostic = {}\n",
    "\n",
    "for index, row in metadata.iterrows():\n",
    "    if row[\"diagnostic\"] not in image_diagnostic:\n",
    "        image_diagnostic[row[\"diagnostic\"]] = [row[\"img_id\"]]\n",
    "    image_diagnostic[row[\"diagnostic\"]].append(row[\"img_id\"])\n",
    "\n",
    "print(image_diagnostic[\"BCC\"][:5])\n"
   ]
  },
  {
   "cell_type": "code",
   "execution_count": 67,
   "metadata": {},
   "outputs": [],
   "source": [
    "selected_images = []\n",
    "for key in image_diagnostic:\n",
    "    random.seed(42)\n",
    "    selected_images += random.sample(image_diagnostic[key], 17)\n"
   ]
  },
  {
   "cell_type": "code",
   "execution_count": 70,
   "metadata": {},
   "outputs": [
    {
     "name": "stdout",
     "output_type": "stream",
     "text": [
      "Images copied successfully!\n"
     ]
    }
   ],
   "source": [
    "# copy the selected_images into a new folder in the data folder\n",
    "\n",
    "def copy_images(source_folders, destination_folder):\n",
    "    \"\"\"Copy all image files from multiple source folders to a single destination folder.\"\"\"\n",
    "    \n",
    "    # Check if destination folder exists, create it if it doesn't\n",
    "    if not os.path.exists(destination_folder):\n",
    "        os.makedirs(destination_folder)\n",
    "\n",
    "    # Define list of image file extensions to search for\n",
    "    extensions = ['.jpg', '.jpeg', '.png', '.gif', '.bmp']\n",
    "\n",
    "    # Loop through each source folder\n",
    "    for source_folder in source_folders:\n",
    "        # Loop through each file in the source folder\n",
    "        for filename in os.listdir(source_folder):\n",
    "            # Check if file has an image file extension\n",
    "            if any(filename.lower().endswith(ext) for ext in extensions):\n",
    "                # Construct source and destination paths\n",
    "                source_path = os.path.join(source_folder, filename)\n",
    "                destination_path = os.path.join(destination_folder, filename)\n",
    "                # Copy the file to the destination folder\n",
    "                shutil.copyfile(source_path, destination_path)\n",
    "    \n",
    "    print(\"Images copied successfully!\")\n",
    "\n",
    "copy_images([\"./data/images/imgs_part_1/\", \"./data/images/imgs_part_2/\", \"./data/images/imgs_part_3/\"], \"./data/images/images/\")\n"
   ]
  },
  {
   "cell_type": "code",
   "execution_count": null,
   "metadata": {},
   "outputs": [],
   "source": [
    "# create a function to Move all images from the 3 folders into the new folder\n",
    "\n"
   ]
  },
  {
   "cell_type": "code",
   "execution_count": null,
   "metadata": {},
   "outputs": [],
   "source": []
  },
  {
   "cell_type": "code",
   "execution_count": null,
   "metadata": {},
   "outputs": [],
   "source": []
  },
  {
   "cell_type": "code",
   "execution_count": null,
   "metadata": {},
   "outputs": [],
   "source": []
  }
 ],
 "metadata": {
  "kernelspec": {
   "display_name": "Python 3",
   "language": "python",
   "name": "python3"
  },
  "language_info": {
   "codemirror_mode": {
    "name": "ipython",
    "version": 3
   },
   "file_extension": ".py",
   "mimetype": "text/x-python",
   "name": "python",
   "nbconvert_exporter": "python",
   "pygments_lexer": "ipython3",
   "version": "3.11.3"
  },
  "orig_nbformat": 4
 },
 "nbformat": 4,
 "nbformat_minor": 2
}
