{
 "cells": [
  {
   "cell_type": "code",
   "execution_count": 1,
   "metadata": {},
   "outputs": [],
   "source": [
    "import numpy as np\n",
    "import cv2\n",
    "from skimage import morphology\n",
    "from skimage.transform import resize\n",
    "from scipy import ndimage\n",
    "import matplotlib.pyplot as plt"
   ]
  },
  {
   "cell_type": "code",
   "execution_count": 91,
   "metadata": {},
   "outputs": [],
   "source": [
    "def features(mask):\n",
    "    \"\"\"\n",
    "    Function to measure the area and perimeter of a given mask.\n",
    "    Returns the area and perimeter of the skin lesion.\n",
    "    \"\"\"\n",
    "    \n",
    "    #Total image size\n",
    "    total = mask.shape[0] * mask.shape[1] \n",
    "\n",
    "    #Area    \n",
    "    area = np.sum(mask) / total #Find area and standardize\n",
    "\n",
    "    struct_el = morphology.disk(1)\n",
    "\n",
    "    mask_eroded = morphology.binary_erosion(mask, struct_el)\n",
    "\n",
    "    \n",
    "    # Show side by side (depending on brush size, you might not see a difference visually)\n",
    "    fig, axes = plt.subplots(nrows=1, ncols=3, figsize=(10, 9))\n",
    "    axes[0].imshow(mask, cmap='gray')\n",
    "    axes[1].imshow(mask_eroded, cmap='gray')\n",
    "    axes[2].imshow( mask - mask_eroded, cmap='gray')\n",
    "\n",
    "\n",
    "    # Verify the new mask is smaller\n",
    "    print(np.sum(mask), np.sum(mask- mask_eroded))\n",
    "\n",
    "    perimeter = np.sum(mask - mask_eroded) / total\n",
    "\n",
    "    return area,perimeter"
   ]
  },
  {
   "cell_type": "code",
   "execution_count": 92,
   "metadata": {},
   "outputs": [
    {
     "name": "stdout",
     "output_type": "stream",
     "text": [
      "19618.30588235294 264.3058823529411\n"
     ]
    },
    {
     "data": {
      "text/plain": [
       "(0.013333369047705192, 0.00017963262944437536)"
      ]
     },
     "execution_count": 92,
     "metadata": {},
     "output_type": "execute_result"
    },
    {
     "data": {
      "image/png": "[encoded data removed]",
      "text/plain": [
       "<Figure size 1000x900 with 3 Axes>"
      ]
     },
     "metadata": {},
     "output_type": "display_data"
    }
   ],
   "source": [
    "mask = np.load(\"../segmentation/masks/PAT_860_1641_998_mask.npy\")\n",
    "mask = resize(mask, (mask.shape[0], mask.shape[1]), anti_aliasing=False)\n",
    "mask.shape()\n",
    "features(mask)"
   ]
  },
  {
   "cell_type": "code",
   "execution_count": null,
   "metadata": {},
   "outputs": [],
   "source": [
    "def center_mask(mask):\n",
    "    for row in range(mask.shape[0]):\n",
    "        \n"
   ]
  },
  {
   "cell_type": "code",
   "execution_count": null,
   "metadata": {},
   "outputs": [],
   "source": [
    "def asymmetry(mask): #Parse centered mask of lesion\n",
    "    \n"
   ]
  },
  {
   "cell_type": "code",
   "execution_count": null,
   "metadata": {},
   "outputs": [],
   "source": []
  },
  {
   "cell_type": "code",
   "execution_count": null,
   "metadata": {},
   "outputs": [],
   "source": []
  },
  {
   "cell_type": "code",
   "execution_count": null,
   "metadata": {},
   "outputs": [],
   "source": []
  }
 ],
 "metadata": {
  "kernelspec": {
   "display_name": "Python 3",
   "language": "python",
   "name": "python3"
  },
  "language_info": {
   "codemirror_mode": {
    "name": "ipython",
    "version": 3
   },
   "file_extension": ".py",
   "mimetype": "text/x-python",
   "name": "python",
   "nbconvert_exporter": "python",
   "pygments_lexer": "ipython3",
   "version": "3.10.9"
  },
  "orig_nbformat": 4
 },
 "nbformat": 4,
 "nbformat_minor": 2
}
