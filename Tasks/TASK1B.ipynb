{
 "cells": [
  {
   "attachments": {},
   "cell_type": "markdown",
   "metadata": {},
   "source": [
    "To rate the asymmetry and color of skin lesions, we will use the following criteria:\n",
    "\n",
    "Asymmetry:\n",
    "\n",
    "0: Symmetric\n",
    "1: Slightly asymmetric\n",
    "2: Moderately asymmetric\n",
    "3: Highly asymmetric\n",
    "\n",
    "Color:\n",
    "\n",
    "0: Uniform color\n",
    "1: Slightly varied color\n",
    "2: Moderately varied color\n",
    "3: Highly varied color"
   ]
  },
  {
   "cell_type": "markdown",
   "metadata": {},
   "source": []
  }
 ],
 "metadata": {
  "language_info": {
   "name": "python"
  },
  "orig_nbformat": 4
 },
 "nbformat": 4,
 "nbformat_minor": 2
}
